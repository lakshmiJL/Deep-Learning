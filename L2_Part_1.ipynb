{
  "cells": [
    {
      "cell_type": "markdown",
      "metadata": {
        "id": "view-in-github",
        "colab_type": "text"
      },
      "source": [
        "<a href=\"https://colab.research.google.com/github/lakshmiJL/Deep-Learning/blob/main/L2_Part_1.ipynb\" target=\"_parent\"><img src=\"https://colab.research.google.com/assets/colab-badge.svg\" alt=\"Open In Colab\"/></a>"
      ]
    },
    {
      "cell_type": "code",
      "execution_count": null,
      "metadata": {
        "id": "IW0o8b_wQkml"
      },
      "outputs": [],
      "source": [
        "import tensorflow as tf\n",
        "from tensorflow.keras.models import Sequential\n",
        "from tensorflow.keras.layers import Dense, Flatten\n",
        "from tensorflow.keras.datasets import mnist\n",
        "from tensorflow.keras.utils import to_categorical\n",
        "import numpy as np\n"
      ]
    },
    {
      "cell_type": "code",
      "execution_count": null,
      "metadata": {
        "colab": {
          "base_uri": "https://localhost:8080/"
        },
        "id": "95ulGO9QQkmp",
        "outputId": "ffe7999e-0cc8-4998-9a2b-e80e066af755"
      },
      "outputs": [
        {
          "output_type": "stream",
          "name": "stdout",
          "text": [
            "Downloading data from https://storage.googleapis.com/tensorflow/tf-keras-datasets/mnist.npz\n",
            "\u001b[1m11490434/11490434\u001b[0m \u001b[32m━━━━━━━━━━━━━━━━━━━━\u001b[0m\u001b[37m\u001b[0m \u001b[1m0s\u001b[0m 0us/step\n"
          ]
        }
      ],
      "source": [
        "# Load and preprocess the data\n",
        "# mnist.load_data() loads the MNIST dataset, which contains 70,000 grayscale images of handwritten digits (0–9), each of size 28x28 pixels.\n",
        "# The dataset is automatically split into:\n",
        "# x_train (60,000 images) and y_train (their labels) for training.\n",
        "# x_test (10,000 images) and y_test (their labels) for testing.\n",
        "\n",
        "(x_train, y_train), (x_test, y_test) = mnist.load_data()\n",
        "\n",
        "# The pixel values in the MNIST images range from 0 to 255.\n",
        "# Dividing by 255.0 scales all values to the range [0, 1], which helps the neural network train faster and more accurately.\n",
        "x_train, x_test = x_train / 255.0, x_test / 255.0  # Normalize pixel values\n",
        "\n",
        "# MNIST labels (y_train, y_test) are originally integers from 0 to 9.\n",
        "# to_categorical(y, 10) converts each label into a one-hot encoded vector of length 10.\n",
        "# For example:\n",
        "# Label 3 becomes [0, 0, 0, 1, 0, 0, 0, 0, 0, 0]\n",
        "y_train = to_categorical(y_train, 10)\n",
        "y_test = to_categorical(y_test, 10)"
      ]
    },
    {
      "cell_type": "code",
      "execution_count": null,
      "metadata": {
        "colab": {
          "base_uri": "https://localhost:8080/"
        },
        "id": "vHpZOkwfQkmq",
        "outputId": "7ee2c19b-b4b2-413e-b9a2-0f96fad4ceb2"
      },
      "outputs": [
        {
          "output_type": "stream",
          "name": "stderr",
          "text": [
            "/usr/local/lib/python3.11/dist-packages/keras/src/layers/reshaping/flatten.py:37: UserWarning: Do not pass an `input_shape`/`input_dim` argument to a layer. When using Sequential models, prefer using an `Input(shape)` object as the first layer in the model instead.\n",
            "  super().__init__(**kwargs)\n"
          ]
        },
        {
          "output_type": "stream",
          "name": "stdout",
          "text": [
            "Epoch 1/5\n",
            "\u001b[1m1875/1875\u001b[0m \u001b[32m━━━━━━━━━━━━━━━━━━━━\u001b[0m\u001b[37m\u001b[0m \u001b[1m13s\u001b[0m 6ms/step - accuracy: 0.8818 - loss: 0.4132 - val_accuracy: 0.9604 - val_loss: 0.1307\n",
            "Epoch 2/5\n",
            "\u001b[1m1875/1875\u001b[0m \u001b[32m━━━━━━━━━━━━━━━━━━━━\u001b[0m\u001b[37m\u001b[0m \u001b[1m9s\u001b[0m 5ms/step - accuracy: 0.9674 - loss: 0.1083 - val_accuracy: 0.9722 - val_loss: 0.0935\n",
            "Epoch 3/5\n",
            "\u001b[1m1875/1875\u001b[0m \u001b[32m━━━━━━━━━━━━━━━━━━━━\u001b[0m\u001b[37m\u001b[0m \u001b[1m9s\u001b[0m 5ms/step - accuracy: 0.9773 - loss: 0.0725 - val_accuracy: 0.9727 - val_loss: 0.0903\n",
            "Epoch 4/5\n",
            "\u001b[1m1875/1875\u001b[0m \u001b[32m━━━━━━━━━━━━━━━━━━━━\u001b[0m\u001b[37m\u001b[0m \u001b[1m10s\u001b[0m 4ms/step - accuracy: 0.9825 - loss: 0.0538 - val_accuracy: 0.9765 - val_loss: 0.0790\n",
            "Epoch 5/5\n",
            "\u001b[1m1875/1875\u001b[0m \u001b[32m━━━━━━━━━━━━━━━━━━━━\u001b[0m\u001b[37m\u001b[0m \u001b[1m8s\u001b[0m 4ms/step - accuracy: 0.9871 - loss: 0.0404 - val_accuracy: 0.9758 - val_loss: 0.0820\n"
          ]
        },
        {
          "output_type": "execute_result",
          "data": {
            "text/plain": [
              "<keras.src.callbacks.history.History at 0x7cfe839d3950>"
            ]
          },
          "metadata": {},
          "execution_count": 3
        }
      ],
      "source": [
        "# Define the neural network model\n",
        "model = Sequential([\n",
        "\n",
        "    #Flattens the 2D 28x28 image into a 1D vector of size 784 (28×28).#Neural networks need 1D input for dense (fully connected) layers.\n",
        "    Flatten(input_shape=(28, 28)),\n",
        "    Dense(128, activation='relu'), #A fully connected layer with 128 neurons.\n",
        "    Dense(64, activation='relu'), #Another fully connected layer, this time with 64 neurons.\n",
        "    Dense(10, activation='softmax') #Output layer with 10 neurons, one for each digit (0–9).\n",
        "])\n",
        "\n",
        "# Compile and train the model\n",
        "# optimizer='adam':\n",
        "# This tells the model to use the Adam optimizer, which is an efficient algorithm that adjusts the learning rate automatically during training.\n",
        "# loss='categorical_crossentropy':\n",
        "# This is the loss function used to evaluate how well the model is doing.\n",
        "# categorical_crossentropy is used\n",
        "# metrics=['accuracy']:\n",
        "# This tells the model to report accuracy as a metric during training and evaluation.\n",
        "model.compile(optimizer='adam', loss='categorical_crossentropy', metrics=['accuracy'])\n",
        "\n",
        "# Train the neural network model\n",
        "# epochs=5:\n",
        "# The model will go through the entire training dataset 5 times.\n",
        "# One epoch = one full pass through the training data.\n",
        "# batch_size=5:\n",
        "# The training data will be split into mini-batches of 32 samples each.\n",
        "# Data is split into mini-batches of 32 samples each.\n",
        "#Each batch is used to update model weights once.\n",
        "# After each epoch, the model evaluates its performance on the test set.\n",
        "# verbose=1:\n",
        "# Shows progress output during training (like loss and accuracy per epoch).\n",
        "model.fit(x_train, y_train, epochs=5, batch_size=32, validation_data=(x_test, y_test),verbose=1)\n"
      ]
    },
    {
      "cell_type": "code",
      "execution_count": null,
      "metadata": {
        "colab": {
          "base_uri": "https://localhost:8080/",
          "height": 55
        },
        "id": "M_dH2JwJQkmq",
        "outputId": "f1700150-06af-4826-cff4-f8a43c4b1feb"
      },
      "outputs": [
        {
          "output_type": "stream",
          "name": "stderr",
          "text": [
            "WARNING:absl:You are saving your model as an HDF5 file via `model.save()` or `keras.saving.save_model(model)`. This file format is considered legacy. We recommend using instead the native Keras format, e.g. `model.save('my_model.keras')` or `keras.saving.save_model(model, 'my_model.keras')`. \n"
          ]
        },
        {
          "output_type": "display_data",
          "data": {
            "text/plain": [
              "<IPython.core.display.Javascript object>"
            ],
            "application/javascript": [
              "\n",
              "    async function download(id, filename, size) {\n",
              "      if (!google.colab.kernel.accessAllowed) {\n",
              "        return;\n",
              "      }\n",
              "      const div = document.createElement('div');\n",
              "      const label = document.createElement('label');\n",
              "      label.textContent = `Downloading \"${filename}\": `;\n",
              "      div.appendChild(label);\n",
              "      const progress = document.createElement('progress');\n",
              "      progress.max = size;\n",
              "      div.appendChild(progress);\n",
              "      document.body.appendChild(div);\n",
              "\n",
              "      const buffers = [];\n",
              "      let downloaded = 0;\n",
              "\n",
              "      const channel = await google.colab.kernel.comms.open(id);\n",
              "      // Send a message to notify the kernel that we're ready.\n",
              "      channel.send({})\n",
              "\n",
              "      for await (const message of channel.messages) {\n",
              "        // Send a message to notify the kernel that we're ready.\n",
              "        channel.send({})\n",
              "        if (message.buffers) {\n",
              "          for (const buffer of message.buffers) {\n",
              "            buffers.push(buffer);\n",
              "            downloaded += buffer.byteLength;\n",
              "            progress.value = downloaded;\n",
              "          }\n",
              "        }\n",
              "      }\n",
              "      const blob = new Blob(buffers, {type: 'application/binary'});\n",
              "      const a = document.createElement('a');\n",
              "      a.href = window.URL.createObjectURL(blob);\n",
              "      a.download = filename;\n",
              "      div.appendChild(a);\n",
              "      a.click();\n",
              "      div.remove();\n",
              "    }\n",
              "  "
            ]
          },
          "metadata": {}
        },
        {
          "output_type": "display_data",
          "data": {
            "text/plain": [
              "<IPython.core.display.Javascript object>"
            ],
            "application/javascript": [
              "download(\"download_9b93c27a-abde-46f0-b09f-927d95b583ea\", \"digit_recognizer_model.h5\", 1344536)"
            ]
          },
          "metadata": {}
        }
      ],
      "source": [
        "model.save(\"digit_recognizer_model.h5\") #save the model\n",
        "\n",
        "#for colab users only uncomment the below lines\n",
        "#from google.colab import files\n",
        "#files.download(\"digit_recognizer_model.h5\")"
      ]
    },
    {
      "cell_type": "code",
      "execution_count": null,
      "metadata": {
        "id": "f2E_R9nKQkmr"
      },
      "outputs": [],
      "source": []
    }
  ],
  "nbformat": 4,
  "nbformat_minor": 0,
  "metadata": {
    "language_info": {
      "name": "python"
    },
    "orig_nbformat": 2,
    "file_extension": ".py",
    "mimetype": "text/x-python",
    "name": "python",
    "npconvert_exporter": "python",
    "pygments_lexer": "ipython3",
    "version": 3,
    "colab": {
      "provenance": [],
      "include_colab_link": true
    },
    "kernelspec": {
      "name": "python3",
      "display_name": "Python 3"
    }
  }
}